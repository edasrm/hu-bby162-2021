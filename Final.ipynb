{
  "nbformat": 4,
  "nbformat_minor": 0,
  "metadata": {
    "colab": {
      "name": "Final.ipynb",
      "provenance": [],
      "mount_file_id": "1nJOU4HKkBzMPO1mGG05F352mE_gPV0D3",
      "authorship_tag": "ABX9TyNtPCGQOQp7eWfTrRPWkomI",
      "include_colab_link": true
    },
    "kernelspec": {
      "name": "python3",
      "display_name": "Python 3"
    },
    "language_info": {
      "name": "python"
    }
  },
  "cells": [
    {
      "cell_type": "markdown",
      "metadata": {
        "id": "view-in-github",
        "colab_type": "text"
      },
      "source": [
        "<a href=\"https://colab.research.google.com/github/edasrm/hu-bby162-2021/blob/main/Final.ipynb\" target=\"_parent\"><img src=\"https://colab.research.google.com/assets/colab-badge.svg\" alt=\"Open In Colab\"/></a>"
      ]
    },
    {
      "cell_type": "code",
      "metadata": {
        "colab": {
          "base_uri": "https://localhost:8080/"
        },
        "id": "7OyJc8N_PdzJ",
        "outputId": "edf0f486-781f-457b-c0aa-dceffbfa5668"
      },
      "source": [
        "#Kütüphane Otomasyonu\n",
        "#Veri Tabanı: /content/drive/MyDrive/Colab Notebooks/final.txt\n",
        "\n",
        "dosya = \"/content/drive/MyDrive/Colab Notebooks/final.txt\"\n",
        "print(\"< Kütüphane Kataloglama Sistemine Hoş Geldiniz >\")\n",
        "\n",
        "def eserListele():\n",
        "  f = open(dosya, 'r')\n",
        "  for line in f.readlines():\n",
        "    print(line)\n",
        "  f.close()\n",
        "\n",
        "def eserKaydet():\n",
        "  eserAdi = input(\"Eser Adını Giriniz: \")\n",
        "  eserYazari = input(\"Eserin Yazarını Giriniz: \")\n",
        "  eserYayinevi = input(\"Eserin Yayınevi Bilgisini Giriniz: \")\n",
        "  eserIsbn = input(\"Eserin ISBN Bilgilerini Giriniz: \")\n",
        "  f = open(dosya, 'a' )\n",
        "  f.write(eserAdi + \" , \" + eserYazari + \" , \" + eserYayinevi + \" , \" + eserIsbn + '\\n')\n",
        "  print(\"Kayıt işlemi başarılı oldu.\")\n",
        "  f.close()\n",
        "  \n",
        "islemSecme = [\"listele\", \"ekle\", \"bitir\"]\n",
        "while islemSecme:\n",
        "  girilen_islem = input(\"Katalogdaki eser listesini görüntülemek için 'listele' yazınız. \\n\"\n",
        "      \"Yeni eser kaydı eklemek için 'ekle' yazınız.\\n\"     \n",
        "      \"Sistemden çıkmak için 'bitir' yazınız.\\n\"\n",
        "      \"Yapmak istediğiniz işlem için ilgili kelimeyi yazınız: \")\n",
        "  \n",
        "  if girilen_islem == islemSecme[0]:\n",
        "    print(\"< Kütüphane Kataloglama Sistemine Hoş Geldiniz >\")\n",
        "    eserListele()\n",
        "  elif girilen_islem == islemSecme[1]:\n",
        "    print(\"Kataloğa yeni bir kayıt giriniz.\")\n",
        "    eserKaydet()\n",
        "  elif girilen_islem == islemSecme[2]:\n",
        "    break"
      ],
      "execution_count": 1,
      "outputs": [
        {
          "output_type": "stream",
          "text": [
            "< Kütüphane Kataloglama Sistemine Hoş Geldiniz >\n",
            "Katalogdaki eser listesini görüntülemek için 'listele' yazınız. \n",
            "Yeni eser kaydı eklemek için 'ekle' yazınız.\n",
            "Sistemden çıkmak için 'bitir' yazınız.\n",
            "Yapmak istediğiniz işlem için ilgili kelimeyi yazınız: listele\n",
            "< Kütüphane Kataloglama Sistemine Hoş Geldiniz >\n",
            "Falci, Stephen King, Inkilap Yayinevi, 9789751037169\n",
            "\n",
            "11/22/63, Stephen King, Altin Kitaplar Yayinevi, 9789752115040\n",
            "\n",
            "Hayvan mezarligi, Stephen King, Altin Kitaplar, 9789754051520\n",
            "\n",
            "Medyum, Stephen King, Altin Kitaplar, 9789754055856\n",
            "\n",
            "Goz, Stephen King, Altin Kitaplar, 9789754054217\n",
            "\n",
            "Bilinmeyen Bir kadinin Mektubu, Stefan Zweig, Turkiye Is Bankasi KulturYayinlari, 9786053606604\n",
            "\n",
            "Satranc, Stefan Zweig, Turkiye Is Bankasi KulturYayinlari,  9786053606116\n",
            "\n",
            "Bir Kadinin Yasamindan 24 Saat, Stefan Zweig, Turkiye Is Bankasi KulturYayinlari, 9786053324225\n",
            "\n",
            "Mecburiyet, Stefan Zweig, Turkiye Is Bankasi KulturYayinlari, 9786052951606\n",
            "\n",
            "Katalogdaki eser listesini görüntülemek için 'listele' yazınız. \n",
            "Yeni eser kaydı eklemek için 'ekle' yazınız.\n",
            "Sistemden çıkmak için 'bitir' yazınız.\n",
            "Yapmak istediğiniz işlem için ilgili kelimeyi yazınız: ekle\n",
            "Kataloğa yeni bir kayıt giriniz.\n",
            "Eser Adını Giriniz: Öldürmek için mükemmel bir gün\n",
            "Eserin Yazarını Giriniz: Mario Mazzanti\n",
            "Eserin Yayınevi Bilgisini Giriniz: Sonsuz Kitap Yayınevi\n",
            "Eserin ISBN Bilgilerini Giriniz: 9786053848943\n",
            "Kayıt işlemi başarılı oldu.\n",
            "Katalogdaki eser listesini görüntülemek için 'listele' yazınız. \n",
            "Yeni eser kaydı eklemek için 'ekle' yazınız.\n",
            "Sistemden çıkmak için 'bitir' yazınız.\n",
            "Yapmak istediğiniz işlem için ilgili kelimeyi yazınız: bitir\n"
          ],
          "name": "stdout"
        }
      ]
    }
  ]
}