{
  "nbformat": 4,
  "nbformat_minor": 0,
  "metadata": {
    "colab": {
      "name": "Örnek Çalışmalarım",
      "provenance": [],
      "authorship_tag": "ABX9TyMjE6SlSOxskcXovGY01O53",
      "include_colab_link": true
    },
    "kernelspec": {
      "name": "python3",
      "display_name": "Python 3"
    },
    "language_info": {
      "name": "python"
    }
  },
  "cells": [
    {
      "cell_type": "markdown",
      "metadata": {
        "id": "view-in-github",
        "colab_type": "text"
      },
      "source": [
        "<a href=\"https://colab.research.google.com/github/edasrm/hu-bby162-2021/blob/main/Ornek_Calismalarim.ipynb\" target=\"_parent\"><img src=\"https://colab.research.google.com/assets/colab-badge.svg\" alt=\"Open In Colab\"/></a>"
      ]
    },
    {
      "cell_type": "code",
      "metadata": {
        "colab": {
          "base_uri": "https://localhost:8080/"
        },
        "id": "DqqWgduZe9nX",
        "outputId": "ad696310-9150-4d7f-90ac-2080c42d79d1"
      },
      "source": [
        "print(\"Deneme yapmak için açtım\")"
      ],
      "execution_count": null,
      "outputs": [
        {
          "output_type": "stream",
          "text": [
            "Deneme yapmak için açtım\n"
          ],
          "name": "stdout"
        }
      ]
    },
    {
      "cell_type": "code",
      "metadata": {
        "colab": {
          "base_uri": "https://localhost:8080/"
        },
        "id": "Fo37ouOcfIy3",
        "outputId": "cb1f31d6-519b-4cf2-e2cb-f18e372d7c2d"
      },
      "source": [
        "# Ders Takvimim\n",
        "gunler = [\"Pazartesi\", \"Salı\", \"Çarşamba\", \"Perşembe\", \"Cuma\"]\n",
        "girilen = input(\"Gün giriniz: \")\n",
        "if girilen == gunler[0]:\n",
        "  print(\"Çocuk ve Gençlik Yayınları\")\n",
        "elif girilen == gunler[1]:\n",
        "  print(\"İnkılap Tarihi, Türk Dili\")\n",
        "elif girilen == gunler[2]:\n",
        "  print( \"Bilimsel İletişim, Programlama ve algoritmalar\")\n",
        "elif girilen == gunler[3]:\n",
        "  print(\"Bilginin Düzenlenmesi, Bilgi Erişim\")\n",
        "elif girilen == gunler[4]:\n",
        "  print(\"Bilgi Hizmetleri\")\n",
        "else :\n",
        "  print(\"Kayıtlı gün bilgisi girmediniz!\")\n",
        "\n"
      ],
      "execution_count": 2,
      "outputs": [
        {
          "output_type": "stream",
          "text": [
            "Gün giriniz: Perşembe\n",
            "Bilginin Düzenlenmesi, Bilgi Erişim\n"
          ],
          "name": "stdout"
        }
      ]
    },
    {
      "cell_type": "code",
      "metadata": {
        "colab": {
          "base_uri": "https://localhost:8080/"
        },
        "id": "5x1Lj3sksusK",
        "outputId": "c0fecbbd-ad66-4ffd-c29b-45c397c5f6ab"
      },
      "source": [
        "#BookMark System\n",
        "\n",
        "adresler = {}\n",
        "webAd = \"\"\n",
        "webURL = \"\"\n",
        "\n",
        "def adres_ekle():\n",
        "  webAd = input(\"Web sitesinin adını giriniz: \")\n",
        "  webURL = input(\"Web sitesinin adresini giriniz: \")\n",
        "  adresler[webAd] = webURL\n",
        "\n",
        "adres_ekle()\n",
        "\n",
        "print(adresler)\n"
      ],
      "execution_count": null,
      "outputs": [
        {
          "output_type": "stream",
          "text": [
            "Web sitesinin adını giriniz: 1000 kitap web sitesi\n",
            "Web sitesinin adresini giriniz: www.1000kitap.com\n",
            "{'1000 kitap web sitesi': 'www.1000kitap.com'}\n"
          ],
          "name": "stdout"
        }
      ]
    },
    {
      "cell_type": "code",
      "metadata": {
        "colab": {
          "base_uri": "https://localhost:8080/"
        },
        "id": "kjto7pFY0kzq",
        "outputId": "d5d4c776-3202-4eb9-9a00-a7ec5c2da7e2"
      },
      "source": [
        "\n",
        "adresler = {}\n",
        "\n",
        "def adres_ekle():\n",
        "  webAd = input(\"Web sitesinin adını giriniz: \")\n",
        "  webURL = input(\"Web sitesinin adresini giriniz: \")\n",
        "  adresler[webAd] = webURL\n",
        "  print(adresler)\n",
        "\n",
        "def adres_ara():\n",
        "    webAra = input(\"Adresini görmek istediğiniz site: \")\n",
        "    if webAra in adresler.keys():\n",
        "      print(\"Bu adres var!\")\n",
        "    else:\n",
        "      print(\"Bu adres yok!\")\n",
        "\n",
        "adres_ekle()\n",
        "adres_ara()\n"
      ],
      "execution_count": null,
      "outputs": [
        {
          "output_type": "stream",
          "text": [
            "Web sitesinin adını giriniz: 1000kitap\n",
            "Web sitesinin adresini giriniz: www.1000kitap.com\n",
            "{'1000kitap': 'www.1000kitap.com'}\n",
            "Adresini görmek istediğiniz site: 1000kitap\n",
            "Bu adres var!\n"
          ],
          "name": "stdout"
        }
      ]
    },
    {
      "cell_type": "code",
      "metadata": {
        "colab": {
          "base_uri": "https://localhost:8080/"
        },
        "id": "Okhlg7DT7qjz",
        "outputId": "55adc579-5324-4789-f23b-c8d11162d0f4"
      },
      "source": [
        "adresler = {}\n",
        "\n",
        "\n",
        "print(\"--- Adres Defterine Hoş Geldiniz ---\")\n",
        "menu()\n",
        "\n",
        "#Adres ekleme fonksiyonu\n",
        "def adres_ekle():\n",
        "  webAd = input(\"Web sitesinin adını giriniz: \")\n",
        "  webURL = input(\"Web sitesinin adresini giriniz: \")\n",
        "  adresler[webAd] = webURL\n",
        "  print(adresler)\n",
        "  menu()\n",
        "\n",
        "#Adres arama fonksiyonu\n",
        "def adres_ara():\n",
        "    webAra = input(\"Adresini görmek istediğiniz site: \")\n",
        "    if webAra in adresler.keys():\n",
        "      print(webAra + \" :\" +adresler[webAra])\n",
        "    else:\n",
        "      print(\"Bu adres yok!\")\n",
        "    menu()\n",
        "\n",
        "\n",
        "def menu():\n",
        "    print(\"1 - Adres ekle.\")\n",
        "    print(\"2 - Adres ara.\")\n",
        "    secilen = input(\"Hangi işlemi yapmak istiyorsunuz(1/2): \")\n",
        "    if secilen ==\"1\":\n",
        "      adres_ekle()\n",
        "    elif secilen==\"2\":\n",
        "      adres_ara()\n",
        "    else:\n",
        "      print(\"Defter kapandı...!\")\n",
        "\n"
      ],
      "execution_count": null,
      "outputs": [
        {
          "output_type": "stream",
          "text": [
            "--- Adres Defterine Hoş Geldiniz ---\n",
            "1 - Adres ekle.\n",
            "2 - Adres ara.\n",
            "Hangi işlemi yapmak istiyorsunuz(1/2): 2\n",
            "Adresini görmek istediğiniz site: 1000 kitap sitesi\n",
            "Bu adres yok!\n",
            "1 - Adres ekle.\n",
            "2 - Adres ara.\n",
            "Hangi işlemi yapmak istiyorsunuz(1/2): 2\n",
            "Adresini görmek istediğiniz site: 1000 kitap\n",
            "Bu adres yok!\n",
            "1 - Adres ekle.\n",
            "2 - Adres ara.\n",
            "Hangi işlemi yapmak istiyorsunuz(1/2): 2\n",
            "Adresini görmek istediğiniz site: 1000kitap\n",
            "Bu adres yok!\n",
            "1 - Adres ekle.\n",
            "2 - Adres ara.\n",
            "Hangi işlemi yapmak istiyorsunuz(1/2): 1\n",
            "Web sitesinin adını giriniz: 1000 kitap web sitesi\n",
            "Web sitesinin adresini giriniz: www.1000kitap.com\n",
            "{'1000 kitap web sitesi': 'www.1000kitap.com'}\n",
            "1 - Adres ekle.\n",
            "2 - Adres ara.\n",
            "Hangi işlemi yapmak istiyorsunuz(1/2): abcds\n",
            "Defter kapandı...!\n"
          ],
          "name": "stdout"
        }
      ]
    },
    {
      "cell_type": "code",
      "metadata": {
        "colab": {
          "base_uri": "https://localhost:8080/"
        },
        "id": "flKikDvjjMCV",
        "outputId": "2dae9987-ace5-4ccd-9ff2-38b3f87ed5f1"
      },
      "source": [
        "# Kelime Tahmini\n",
        "from random import choice\n",
        "\n",
        "\n",
        "adamCan = 4\n",
        "kelimeler = [\"kitap\", \"kalem\", \"okumak\", \"kahve\"]\n",
        "secilenKelime = choice(kelimeler)\n",
        "#print(secilenKelime)\n",
        "\n",
        "while adamCan > 0:\n",
        "    tahmin = input(\"Kelimeyi tahmin ediniz: \")\n",
        "    if tahmin == secilenKelime:\n",
        "      print(\"Tebrikler :)\")\n",
        "      break\n",
        "    else:\n",
        "      adamCan-=1\n",
        "      print(str(adamCan) + \" canınız kaldı\")\n"
      ],
      "execution_count": null,
      "outputs": [
        {
          "output_type": "stream",
          "text": [
            "Kelimeyi tahmin ediniz: kalem\n",
            "3 canınız kaldı\n",
            "Kelimeyi tahmin ediniz: kitap\n",
            "2 canınız kaldı\n",
            "Kelimeyi tahmin ediniz: kahve\n",
            "Tebrikler :)\n"
          ],
          "name": "stdout"
        }
      ]
    },
    {
      "cell_type": "code",
      "metadata": {
        "id": "GvveF_Z7ZWCs"
      },
      "source": [
        "#Fonksiyonlu Adam Asmaca\n",
        "from random import choice\n",
        "print(\"::: Adam asmaca oyununa hoşgeldiniz :::\")\n",
        "oyunKontrol = input(\"Oyuna başlamak istiyor musunuz 0) hayır 1) evet 0/1: \")\n",
        "if oyunKontrol == \"1\":\n",
        "  adamAsmaca()\n",
        "else :\n",
        "  print(\"Teşekkürler\")\n",
        "  \n",
        "\n",
        "def adamAsmaca(): \n",
        "  adamCan = 3\n",
        "  kelimeler = [\"bisiklet\", \"triatlon\", \"yüzme\", \"koşu\"]\n",
        "  secilenKelime = choice(kelimeler)\n",
        "  print(secilenKelime)\n",
        "  dizilenKelime = []\n",
        "  for diz in secilenKelime:\n",
        "      dizilenKelime.append(\"_\")\n",
        "  print(dizilenKelime)\n",
        "\n",
        "  while adamCan > 0:\n",
        "      girilenHarf = input(\"Bir harf giriniz: \")\n",
        "      canKontrol = girilenHarf in secilenKelime\n",
        "      if canKontrol == False:\n",
        "          adamCan-=1\n",
        "      i = 0\n",
        "      for kontrol in secilenKelime:\n",
        "          if secilenKelime[i] == girilenHarf:\n",
        "              dizilenKelime[i] = girilenHarf\n",
        "          i+=1\n",
        "      kelimeGuncel = \"\"\n",
        "      for kelimeG in dizilenKelime:\n",
        "        kelimeGuncel += kelimeG\n",
        "      if secilenKelime == kelimeGuncel:\n",
        "        print(\"Tebrikler bildiniz\")\n",
        "        break\n",
        "\n",
        "      print(dizilenKelime)\n",
        "      print(\"Kalan can: \"+ st0r(adamCan))\n",
        "      print(\"KAYBETTİNİZ\")\n",
        "  adamAsmaca()\n",
        "adamAsmaca()"
      ],
      "execution_count": null,
      "outputs": []
    },
    {
      "cell_type": "code",
      "metadata": {
        "colab": {
          "base_uri": "https://localhost:8080/"
        },
        "id": "Ez804y4scwQS",
        "outputId": "9d3264de-f728-4c5c-f137-e327b1583ccd"
      },
      "source": [
        "#BookMark System #Hocamızın nisan ayında paylaştığı örnek\n",
        "\n",
        "adresler = {}\n",
        "\n",
        "print(\"--- Adres Defterine Hoş Geldiniz ---\")\n",
        "\n",
        "#Adres ekleme foksiyonu\n",
        "def adres_ekle():\n",
        "  webAd = input(\"Web sitesinin adını giriniz: \")\n",
        "  webURL = input(\"Web sitesinin adresini giriniz: \")\n",
        "  adresler[webAd] = webURL\n",
        "  print(adresler)\n",
        "  menu()\n",
        "\n",
        "#Adres arama foksiyonu\n",
        "def adres_ara():\n",
        "  webAra = input(\"Adresini görmek istediğiniz site: \")\n",
        "  if webAra in adresler.keys():\n",
        "    print(webAra + \" :\" +adresler[webAra])\n",
        "  else:\n",
        "    print(\"Bu adres yok!\")\n",
        "  menu()\n",
        "\n",
        "def menu():\n",
        "  print(\"1 - Adres ekle.\")\n",
        "  print(\"2 - Adres ara.\")\n",
        "  secilen = input(\"Hangi işlemi yapmak istiyorsunuz(1/2): \")\n",
        "  if secilen == \"1\":\n",
        "    adres_ekle()\n",
        "  elif secilen == \"2\":\n",
        "    adres_ara()\n",
        "  else:\n",
        "    print(\"Defter kapandı..!\")\n",
        "\n",
        "menu()"
      ],
      "execution_count": 7,
      "outputs": [
        {
          "output_type": "stream",
          "text": [
            "--- Adres Defterine Hoş Geldiniz ---\n",
            "1 - Adres ekle.\n",
            "2 - Adres ara.\n",
            "Hangi işlemi yapmak istiyorsunuz(1/2): 1000kitap\n",
            "Defter kapandı..!\n"
          ],
          "name": "stdout"
        }
      ]
    },
    {
      "cell_type": "code",
      "metadata": {
        "colab": {
          "base_uri": "https://localhost:8080/",
          "height": 527
        },
        "id": "H8o35qnqfSol",
        "outputId": "9ed01e56-b5f0-455a-cad3-86260aacfe5d"
      },
      "source": [
        "#Fonksiyonsuz Adam Asmaca # Hocanın üzerinden gittiği örnek #Fonksiyonlu yapıldı.\n",
        "\n",
        "from random import choice\n",
        "def adamAsmaca(adamCan = 3): \n",
        "  print(\": : : Adam Asmaca Oyununa Hoş Geldiniz : : :\")\n",
        " # kelimeler = [\"kitap\", \"kalem\", \"defter\", \"silgi\"]\n",
        "  kelimeler = [\"kitap\"]\n",
        "  secilenKelime = choice(kelimeler)\n",
        "  print(secilenKelime)\n",
        "  dizilenKelime = []\n",
        "  for diz in secilenKelime:\n",
        "      dizilenKelime.append(\"_\")\n",
        "  print(dizilenKelime)\n",
        "\n",
        "  while adamCan > 0:\n",
        "      girilenHarf = input(\"Bir harf giriniz: \")\n",
        "      canKontrol = girilenHarf in secilenKelime\n",
        "      if canKontrol == False:\n",
        "          adamCan-=1\n",
        "      i = 0\n",
        "      for kontrol in secilenKelime:\n",
        "          if secilenKelime[i] == girilenHarf:\n",
        "              dizilenKelime[i] = girilenHarf\n",
        "          i+=1\n",
        "      kelimeGuncel = \"\"\n",
        "      for kelimeG in dizilenKelime:     \n",
        "         kelimeGuncel +=  kelimeG\n",
        "      if secilenKelime == kelimeGuncel:\n",
        "        print(\"Tebrikler bildiniz...!\")\n",
        "        adamAsmaca()\n",
        "        break\n",
        "      print(kelimeGuncel)\n",
        "      print(dizilenKelime)\n",
        "      print(\"Kalan can: \"+ str(adamCan))\n",
        "  adamAsmaca(1)\n",
        "adamAsmaca(1)"
      ],
      "execution_count": 4,
      "outputs": [
        {
          "output_type": "error",
          "ename": "KeyboardInterrupt",
          "evalue": "ignored",
          "traceback": [
            "\u001b[0;31m---------------------------------------------------------------------------\u001b[0m",
            "\u001b[0;31mKeyboardInterrupt\u001b[0m                         Traceback (most recent call last)",
            "\u001b[0;32m/usr/local/lib/python3.7/dist-packages/ipykernel/kernelbase.py\u001b[0m in \u001b[0;36m_input_request\u001b[0;34m(self, prompt, ident, parent, password)\u001b[0m\n\u001b[1;32m    728\u001b[0m             \u001b[0;32mtry\u001b[0m\u001b[0;34m:\u001b[0m\u001b[0;34m\u001b[0m\u001b[0;34m\u001b[0m\u001b[0m\n\u001b[0;32m--> 729\u001b[0;31m                 \u001b[0mident\u001b[0m\u001b[0;34m,\u001b[0m \u001b[0mreply\u001b[0m \u001b[0;34m=\u001b[0m \u001b[0mself\u001b[0m\u001b[0;34m.\u001b[0m\u001b[0msession\u001b[0m\u001b[0;34m.\u001b[0m\u001b[0mrecv\u001b[0m\u001b[0;34m(\u001b[0m\u001b[0mself\u001b[0m\u001b[0;34m.\u001b[0m\u001b[0mstdin_socket\u001b[0m\u001b[0;34m,\u001b[0m \u001b[0;36m0\u001b[0m\u001b[0;34m)\u001b[0m\u001b[0;34m\u001b[0m\u001b[0;34m\u001b[0m\u001b[0m\n\u001b[0m\u001b[1;32m    730\u001b[0m             \u001b[0;32mexcept\u001b[0m \u001b[0mException\u001b[0m\u001b[0;34m:\u001b[0m\u001b[0;34m\u001b[0m\u001b[0;34m\u001b[0m\u001b[0m\n",
            "\u001b[0;32m/usr/local/lib/python3.7/dist-packages/jupyter_client/session.py\u001b[0m in \u001b[0;36mrecv\u001b[0;34m(self, socket, mode, content, copy)\u001b[0m\n\u001b[1;32m    802\u001b[0m         \u001b[0;32mtry\u001b[0m\u001b[0;34m:\u001b[0m\u001b[0;34m\u001b[0m\u001b[0;34m\u001b[0m\u001b[0m\n\u001b[0;32m--> 803\u001b[0;31m             \u001b[0mmsg_list\u001b[0m \u001b[0;34m=\u001b[0m \u001b[0msocket\u001b[0m\u001b[0;34m.\u001b[0m\u001b[0mrecv_multipart\u001b[0m\u001b[0;34m(\u001b[0m\u001b[0mmode\u001b[0m\u001b[0;34m,\u001b[0m \u001b[0mcopy\u001b[0m\u001b[0;34m=\u001b[0m\u001b[0mcopy\u001b[0m\u001b[0;34m)\u001b[0m\u001b[0;34m\u001b[0m\u001b[0;34m\u001b[0m\u001b[0m\n\u001b[0m\u001b[1;32m    804\u001b[0m         \u001b[0;32mexcept\u001b[0m \u001b[0mzmq\u001b[0m\u001b[0;34m.\u001b[0m\u001b[0mZMQError\u001b[0m \u001b[0;32mas\u001b[0m \u001b[0me\u001b[0m\u001b[0;34m:\u001b[0m\u001b[0;34m\u001b[0m\u001b[0;34m\u001b[0m\u001b[0m\n",
            "\u001b[0;32m/usr/local/lib/python3.7/dist-packages/zmq/sugar/socket.py\u001b[0m in \u001b[0;36mrecv_multipart\u001b[0;34m(self, flags, copy, track)\u001b[0m\n\u001b[1;32m    582\u001b[0m         \"\"\"\n\u001b[0;32m--> 583\u001b[0;31m         \u001b[0mparts\u001b[0m \u001b[0;34m=\u001b[0m \u001b[0;34m[\u001b[0m\u001b[0mself\u001b[0m\u001b[0;34m.\u001b[0m\u001b[0mrecv\u001b[0m\u001b[0;34m(\u001b[0m\u001b[0mflags\u001b[0m\u001b[0;34m,\u001b[0m \u001b[0mcopy\u001b[0m\u001b[0;34m=\u001b[0m\u001b[0mcopy\u001b[0m\u001b[0;34m,\u001b[0m \u001b[0mtrack\u001b[0m\u001b[0;34m=\u001b[0m\u001b[0mtrack\u001b[0m\u001b[0;34m)\u001b[0m\u001b[0;34m]\u001b[0m\u001b[0;34m\u001b[0m\u001b[0;34m\u001b[0m\u001b[0m\n\u001b[0m\u001b[1;32m    584\u001b[0m         \u001b[0;31m# have first part already, only loop while more to receive\u001b[0m\u001b[0;34m\u001b[0m\u001b[0;34m\u001b[0m\u001b[0;34m\u001b[0m\u001b[0m\n",
            "\u001b[0;32mzmq/backend/cython/socket.pyx\u001b[0m in \u001b[0;36mzmq.backend.cython.socket.Socket.recv\u001b[0;34m()\u001b[0m\n",
            "\u001b[0;32mzmq/backend/cython/socket.pyx\u001b[0m in \u001b[0;36mzmq.backend.cython.socket.Socket.recv\u001b[0;34m()\u001b[0m\n",
            "\u001b[0;32mzmq/backend/cython/socket.pyx\u001b[0m in \u001b[0;36mzmq.backend.cython.socket._recv_copy\u001b[0;34m()\u001b[0m\n",
            "\u001b[0;32m/usr/local/lib/python3.7/dist-packages/zmq/backend/cython/checkrc.pxd\u001b[0m in \u001b[0;36mzmq.backend.cython.checkrc._check_rc\u001b[0;34m()\u001b[0m\n",
            "\u001b[0;31mKeyboardInterrupt\u001b[0m: ",
            "\nDuring handling of the above exception, another exception occurred:\n",
            "\u001b[0;31mKeyboardInterrupt\u001b[0m                         Traceback (most recent call last)",
            "\u001b[0;32m<ipython-input-4-799586c10bce>\u001b[0m in \u001b[0;36m<module>\u001b[0;34m()\u001b[0m\n\u001b[1;32m     34\u001b[0m       \u001b[0mprint\u001b[0m\u001b[0;34m(\u001b[0m\u001b[0;34m\"Kalan can: \"\u001b[0m\u001b[0;34m+\u001b[0m \u001b[0mstr\u001b[0m\u001b[0;34m(\u001b[0m\u001b[0madamCan\u001b[0m\u001b[0;34m)\u001b[0m\u001b[0;34m)\u001b[0m\u001b[0;34m\u001b[0m\u001b[0;34m\u001b[0m\u001b[0m\n\u001b[1;32m     35\u001b[0m   \u001b[0madamAsmaca\u001b[0m\u001b[0;34m(\u001b[0m\u001b[0;36m1\u001b[0m\u001b[0;34m)\u001b[0m\u001b[0;34m\u001b[0m\u001b[0;34m\u001b[0m\u001b[0m\n\u001b[0;32m---> 36\u001b[0;31m \u001b[0madamAsmaca\u001b[0m\u001b[0;34m(\u001b[0m\u001b[0;36m1\u001b[0m\u001b[0;34m)\u001b[0m\u001b[0;34m\u001b[0m\u001b[0;34m\u001b[0m\u001b[0m\n\u001b[0m",
            "\u001b[0;32m<ipython-input-4-799586c10bce>\u001b[0m in \u001b[0;36madamAsmaca\u001b[0;34m(adamCan)\u001b[0m\n\u001b[1;32m     14\u001b[0m \u001b[0;34m\u001b[0m\u001b[0m\n\u001b[1;32m     15\u001b[0m   \u001b[0;32mwhile\u001b[0m \u001b[0madamCan\u001b[0m \u001b[0;34m>\u001b[0m \u001b[0;36m0\u001b[0m\u001b[0;34m:\u001b[0m\u001b[0;34m\u001b[0m\u001b[0;34m\u001b[0m\u001b[0m\n\u001b[0;32m---> 16\u001b[0;31m       \u001b[0mgirilenHarf\u001b[0m \u001b[0;34m=\u001b[0m \u001b[0minput\u001b[0m\u001b[0;34m(\u001b[0m\u001b[0;34m\"Bir harf giriniz: \"\u001b[0m\u001b[0;34m)\u001b[0m\u001b[0;34m\u001b[0m\u001b[0;34m\u001b[0m\u001b[0m\n\u001b[0m\u001b[1;32m     17\u001b[0m       \u001b[0mcanKontrol\u001b[0m \u001b[0;34m=\u001b[0m \u001b[0mgirilenHarf\u001b[0m \u001b[0;32min\u001b[0m \u001b[0msecilenKelime\u001b[0m\u001b[0;34m\u001b[0m\u001b[0;34m\u001b[0m\u001b[0m\n\u001b[1;32m     18\u001b[0m       \u001b[0;32mif\u001b[0m \u001b[0mcanKontrol\u001b[0m \u001b[0;34m==\u001b[0m \u001b[0;32mFalse\u001b[0m\u001b[0;34m:\u001b[0m\u001b[0;34m\u001b[0m\u001b[0;34m\u001b[0m\u001b[0m\n",
            "\u001b[0;32m/usr/local/lib/python3.7/dist-packages/ipykernel/kernelbase.py\u001b[0m in \u001b[0;36mraw_input\u001b[0;34m(self, prompt)\u001b[0m\n\u001b[1;32m    702\u001b[0m             \u001b[0mself\u001b[0m\u001b[0;34m.\u001b[0m\u001b[0m_parent_ident\u001b[0m\u001b[0;34m,\u001b[0m\u001b[0;34m\u001b[0m\u001b[0;34m\u001b[0m\u001b[0m\n\u001b[1;32m    703\u001b[0m             \u001b[0mself\u001b[0m\u001b[0;34m.\u001b[0m\u001b[0m_parent_header\u001b[0m\u001b[0;34m,\u001b[0m\u001b[0;34m\u001b[0m\u001b[0;34m\u001b[0m\u001b[0m\n\u001b[0;32m--> 704\u001b[0;31m             \u001b[0mpassword\u001b[0m\u001b[0;34m=\u001b[0m\u001b[0;32mFalse\u001b[0m\u001b[0;34m,\u001b[0m\u001b[0;34m\u001b[0m\u001b[0;34m\u001b[0m\u001b[0m\n\u001b[0m\u001b[1;32m    705\u001b[0m         )\n\u001b[1;32m    706\u001b[0m \u001b[0;34m\u001b[0m\u001b[0m\n",
            "\u001b[0;32m/usr/local/lib/python3.7/dist-packages/ipykernel/kernelbase.py\u001b[0m in \u001b[0;36m_input_request\u001b[0;34m(self, prompt, ident, parent, password)\u001b[0m\n\u001b[1;32m    732\u001b[0m             \u001b[0;32mexcept\u001b[0m \u001b[0mKeyboardInterrupt\u001b[0m\u001b[0;34m:\u001b[0m\u001b[0;34m\u001b[0m\u001b[0;34m\u001b[0m\u001b[0m\n\u001b[1;32m    733\u001b[0m                 \u001b[0;31m# re-raise KeyboardInterrupt, to truncate traceback\u001b[0m\u001b[0;34m\u001b[0m\u001b[0;34m\u001b[0m\u001b[0;34m\u001b[0m\u001b[0m\n\u001b[0;32m--> 734\u001b[0;31m                 \u001b[0;32mraise\u001b[0m \u001b[0mKeyboardInterrupt\u001b[0m\u001b[0;34m\u001b[0m\u001b[0;34m\u001b[0m\u001b[0m\n\u001b[0m\u001b[1;32m    735\u001b[0m             \u001b[0;32melse\u001b[0m\u001b[0;34m:\u001b[0m\u001b[0;34m\u001b[0m\u001b[0;34m\u001b[0m\u001b[0m\n\u001b[1;32m    736\u001b[0m                 \u001b[0;32mbreak\u001b[0m\u001b[0;34m\u001b[0m\u001b[0;34m\u001b[0m\u001b[0m\n",
            "\u001b[0;31mKeyboardInterrupt\u001b[0m: "
          ]
        }
      ]
    },
    {
      "cell_type": "code",
      "metadata": {
        "colab": {
          "base_uri": "https://localhost:8080/"
        },
        "id": "QatElwZWJQM7",
        "outputId": "e7fe2ea7-809d-4e5c-c67f-71077079abff"
      },
      "source": [
        "#Fonksiyonsuz Adam Asmaca\n",
        "\n",
        "from random import choice\n",
        "\n",
        "def adamAsmaca():\n",
        "  adamCan = 3\n",
        "\n",
        "  kelimeler = [\"kitap\", \"kalem\", \"defter\", \"silgi\"]\n",
        "  secilenKelime = choice(kelimeler)\n",
        "  print(secilenKelime)\n",
        "  dizilenKelime = []\n",
        "  for diz in secilenKelime:\n",
        "      dizilenKelime.append(\"_\")\n",
        "  print(dizilenKelime)\n",
        "\n",
        "  while adamCan > 0:\n",
        "      girilenHarf = input(\"Bir harf giriniz: \")\n",
        "      canKontrol = girilenHarf in secilenKelime\n",
        "      if canKontrol == False:\n",
        "          adamCan-=1\n",
        "      i = 0\n",
        "      for kontrol in secilenKelime:\n",
        "          if secilenKelime[i] == girilenHarf:\n",
        "              dizilenKelime[i] = girilenHarf\n",
        "          i+=1\n",
        "      print(dizilenKelime)\n",
        "      print(\"Kalan can: \"+ str(adamCan))\n",
        "\n",
        "print(\"::: Adam Asmaca Oyununa Hoş Geldiniz :::\")\n",
        "oyunKontrol = input(\"Oyuna başlamak istiyor musunuz? 0/1: \")\n",
        "if oyunKontrol == \"1\":\n",
        "   adamAsmaca()\n",
        "else:\n",
        "  print(\"Siz bilirsiniz.\")"
      ],
      "execution_count": 3,
      "outputs": [
        {
          "output_type": "stream",
          "text": [
            "::: Adam Asmaca Oyununa Hoş Geldiniz :::\n",
            "Oyuna başlamak istiyor musunuz? 0/1: 0\n",
            "Siz bilirsiniz.\n"
          ],
          "name": "stdout"
        }
      ]
    }
  ]
}