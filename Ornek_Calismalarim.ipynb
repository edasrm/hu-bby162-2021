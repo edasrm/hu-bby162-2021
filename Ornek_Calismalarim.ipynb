{
  "nbformat": 4,
  "nbformat_minor": 0,
  "metadata": {
    "colab": {
      "name": "Örnek Çalışmalarım",
      "provenance": [],
      "authorship_tag": "ABX9TyMwB1b4c8qk7uygF0yHAIQI",
      "include_colab_link": true
    },
    "kernelspec": {
      "name": "python3",
      "display_name": "Python 3"
    },
    "language_info": {
      "name": "python"
    }
  },
  "cells": [
    {
      "cell_type": "markdown",
      "metadata": {
        "id": "view-in-github",
        "colab_type": "text"
      },
      "source": [
        "<a href=\"https://colab.research.google.com/github/edasrm/hu-bby162-2021/blob/main/Ornek_Calismalarim.ipynb\" target=\"_parent\"><img src=\"https://colab.research.google.com/assets/colab-badge.svg\" alt=\"Open In Colab\"/></a>"
      ]
    },
    {
      "cell_type": "code",
      "metadata": {
        "colab": {
          "base_uri": "https://localhost:8080/"
        },
        "id": "DqqWgduZe9nX",
        "outputId": "ad696310-9150-4d7f-90ac-2080c42d79d1"
      },
      "source": [
        "print(\"Deneme yapmak için açtım\")"
      ],
      "execution_count": null,
      "outputs": [
        {
          "output_type": "stream",
          "text": [
            "Deneme yapmak için açtım\n"
          ],
          "name": "stdout"
        }
      ]
    },
    {
      "cell_type": "code",
      "metadata": {
        "colab": {
          "base_uri": "https://localhost:8080/"
        },
        "id": "Fo37ouOcfIy3",
        "outputId": "64077076-5871-4fc2-834c-5508593a4c3d"
      },
      "source": [
        "# Ders Takvimim\n",
        "gunler = [\"Pazartesi\", \"Salı\", \"Çarşamba\", \"Perşembe\", \"Cuma\"]\n",
        "girilen = input(\"Gün giriniz: \")\n",
        "if girilen == gunler[0]:\n",
        "  print(\"Çocuk ve Gençlik Yayınları\")\n",
        "elif girilen == gunler[1]:\n",
        "  print(\"İnkılap Tarihi, Türk Dili\")\n",
        "elif girilen == gunler[2]:\n",
        "  print( \"Bilimsel İletişim, Programlama ve algoritmalar\")\n",
        "elif girilen == gunler[3]:\n",
        "  print(\"Bilginin Düzenlenmesi, Bilgi Erişim\")\n",
        "elif girilen == gunler[4]:\n",
        "  print(\"Bilgi Hizmetleri\")\n",
        "else :\n",
        "  print(\"Kayıtlı gün bilgisi girmediniz!\")\n",
        "\n"
      ],
      "execution_count": null,
      "outputs": [
        {
          "output_type": "stream",
          "text": [
            "Gün giriniz: Perşembe\n",
            "Bilginin Düzenlenmesi, Bilgi Erişim\n"
          ],
          "name": "stdout"
        }
      ]
    },
    {
      "cell_type": "code",
      "metadata": {
        "colab": {
          "base_uri": "https://localhost:8080/"
        },
        "id": "5x1Lj3sksusK",
        "outputId": "c0fecbbd-ad66-4ffd-c29b-45c397c5f6ab"
      },
      "source": [
        "#BookMark System\n",
        "\n",
        "adresler = {}\n",
        "webAd = \"\"\n",
        "webURL = \"\"\n",
        "\n",
        "def adres_ekle():\n",
        "  webAd = input(\"Web sitesinin adını giriniz: \")\n",
        "  webURL = input(\"Web sitesinin adresini giriniz: \")\n",
        "  adresler[webAd] = webURL\n",
        "\n",
        "adres_ekle()\n",
        "\n",
        "print(adresler)\n"
      ],
      "execution_count": 9,
      "outputs": [
        {
          "output_type": "stream",
          "text": [
            "Web sitesinin adını giriniz: 1000 kitap web sitesi\n",
            "Web sitesinin adresini giriniz: www.1000kitap.com\n",
            "{'1000 kitap web sitesi': 'www.1000kitap.com'}\n"
          ],
          "name": "stdout"
        }
      ]
    },
    {
      "cell_type": "code",
      "metadata": {
        "colab": {
          "base_uri": "https://localhost:8080/"
        },
        "id": "kjto7pFY0kzq",
        "outputId": "d5d4c776-3202-4eb9-9a00-a7ec5c2da7e2"
      },
      "source": [
        "\n",
        "adresler = {}\n",
        "\n",
        "def adres_ekle():\n",
        "  webAd = input(\"Web sitesinin adını giriniz: \")\n",
        "  webURL = input(\"Web sitesinin adresini giriniz: \")\n",
        "  adresler[webAd] = webURL\n",
        "  print(adresler)\n",
        "\n",
        "def adres_ara():\n",
        "    webAra = input(\"Adresini görmek istediğiniz site: \")\n",
        "    if webAra in adresler.keys():\n",
        "      print(\"Bu adres var!\")\n",
        "    else:\n",
        "      print(\"Bu adres yok!\")\n",
        "\n",
        "adres_ekle()\n",
        "adres_ara()\n"
      ],
      "execution_count": 14,
      "outputs": [
        {
          "output_type": "stream",
          "text": [
            "Web sitesinin adını giriniz: 1000kitap\n",
            "Web sitesinin adresini giriniz: www.1000kitap.com\n",
            "{'1000kitap': 'www.1000kitap.com'}\n",
            "Adresini görmek istediğiniz site: 1000kitap\n",
            "Bu adres var!\n"
          ],
          "name": "stdout"
        }
      ]
    },
    {
      "cell_type": "code",
      "metadata": {
        "colab": {
          "base_uri": "https://localhost:8080/"
        },
        "id": "Okhlg7DT7qjz",
        "outputId": "55adc579-5324-4789-f23b-c8d11162d0f4"
      },
      "source": [
        "adresler = {}\n",
        "\n",
        "\n",
        "print(\"--- Adres Defterine Hoş Geldiniz ---\")\n",
        "menu()\n",
        "\n",
        "#Adres ekleme fonksiyonu\n",
        "def adres_ekle():\n",
        "  webAd = input(\"Web sitesinin adını giriniz: \")\n",
        "  webURL = input(\"Web sitesinin adresini giriniz: \")\n",
        "  adresler[webAd] = webURL\n",
        "  print(adresler)\n",
        "  menu()\n",
        "\n",
        "#Adres arama fonksiyonu\n",
        "def adres_ara():\n",
        "    webAra = input(\"Adresini görmek istediğiniz site: \")\n",
        "    if webAra in adresler.keys():\n",
        "      print(webAra + \" :\" +adresler[webAra])\n",
        "    else:\n",
        "      print(\"Bu adres yok!\")\n",
        "    menu()\n",
        "\n",
        "\n",
        "def menu():\n",
        "    print(\"1 - Adres ekle.\")\n",
        "    print(\"2 - Adres ara.\")\n",
        "    secilen = input(\"Hangi işlemi yapmak istiyorsunuz(1/2): \")\n",
        "    if secilen ==\"1\":\n",
        "      adres_ekle()\n",
        "    elif secilen==\"2\":\n",
        "      adres_ara()\n",
        "    else:\n",
        "      print(\"Defter kapandı...!\")\n",
        "\n"
      ],
      "execution_count": 29,
      "outputs": [
        {
          "output_type": "stream",
          "text": [
            "--- Adres Defterine Hoş Geldiniz ---\n",
            "1 - Adres ekle.\n",
            "2 - Adres ara.\n",
            "Hangi işlemi yapmak istiyorsunuz(1/2): 2\n",
            "Adresini görmek istediğiniz site: 1000 kitap sitesi\n",
            "Bu adres yok!\n",
            "1 - Adres ekle.\n",
            "2 - Adres ara.\n",
            "Hangi işlemi yapmak istiyorsunuz(1/2): 2\n",
            "Adresini görmek istediğiniz site: 1000 kitap\n",
            "Bu adres yok!\n",
            "1 - Adres ekle.\n",
            "2 - Adres ara.\n",
            "Hangi işlemi yapmak istiyorsunuz(1/2): 2\n",
            "Adresini görmek istediğiniz site: 1000kitap\n",
            "Bu adres yok!\n",
            "1 - Adres ekle.\n",
            "2 - Adres ara.\n",
            "Hangi işlemi yapmak istiyorsunuz(1/2): 1\n",
            "Web sitesinin adını giriniz: 1000 kitap web sitesi\n",
            "Web sitesinin adresini giriniz: www.1000kitap.com\n",
            "{'1000 kitap web sitesi': 'www.1000kitap.com'}\n",
            "1 - Adres ekle.\n",
            "2 - Adres ara.\n",
            "Hangi işlemi yapmak istiyorsunuz(1/2): abcds\n",
            "Defter kapandı...!\n"
          ],
          "name": "stdout"
        }
      ]
    }
  ]
}