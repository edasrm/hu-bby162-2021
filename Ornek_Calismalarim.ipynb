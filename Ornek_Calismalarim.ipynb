{
  "nbformat": 4,
  "nbformat_minor": 0,
  "metadata": {
    "colab": {
      "name": "Örnek Çalışmalarım",
      "provenance": [],
      "authorship_tag": "ABX9TyMGLOYzd2dS4KQfXjfVEeq6",
      "include_colab_link": true
    },
    "kernelspec": {
      "name": "python3",
      "display_name": "Python 3"
    },
    "language_info": {
      "name": "python"
    }
  },
  "cells": [
    {
      "cell_type": "markdown",
      "metadata": {
        "id": "view-in-github",
        "colab_type": "text"
      },
      "source": [
        "<a href=\"https://colab.research.google.com/github/edasrm/hu-bby162-2021/blob/main/Ornek_Calismalarim.ipynb\" target=\"_parent\"><img src=\"https://colab.research.google.com/assets/colab-badge.svg\" alt=\"Open In Colab\"/></a>"
      ]
    },
    {
      "cell_type": "code",
      "metadata": {
        "colab": {
          "base_uri": "https://localhost:8080/"
        },
        "id": "DqqWgduZe9nX",
        "outputId": "ad696310-9150-4d7f-90ac-2080c42d79d1"
      },
      "source": [
        "print(\"Deneme yapmak için açtım\")"
      ],
      "execution_count": 3,
      "outputs": [
        {
          "output_type": "stream",
          "text": [
            "Deneme yapmak için açtım\n"
          ],
          "name": "stdout"
        }
      ]
    },
    {
      "cell_type": "code",
      "metadata": {
        "colab": {
          "base_uri": "https://localhost:8080/"
        },
        "id": "Fo37ouOcfIy3",
        "outputId": "64077076-5871-4fc2-834c-5508593a4c3d"
      },
      "source": [
        "# Ders Takvimim\n",
        "gunler = [\"Pazartesi\", \"Salı\", \"Çarşamba\", \"Perşembe\", \"Cuma\"]\n",
        "girilen = input(\"Gün giriniz: \")\n",
        "if girilen == gunler[0]:\n",
        "  print(\"Çocuk ve Gençlik Yayınları\")\n",
        "elif girilen == gunler[1]:\n",
        "  print(\"İnkılap Tarihi, Türk Dili\")\n",
        "elif girilen == gunler[2]:\n",
        "  print( \"Bilimsel İletişim, Programlama ve algoritmalar\")\n",
        "elif girilen == gunler[3]:\n",
        "  print(\"Bilginin Düzenlenmesi, Bilgi Erişim\")\n",
        "elif girilen == gunler[4]:\n",
        "  print(\"Bilgi Hizmetleri\")\n",
        "else :\n",
        "  print(\"Kayıtlı gün bilgisi girmediniz!\")\n",
        "\n"
      ],
      "execution_count": 18,
      "outputs": [
        {
          "output_type": "stream",
          "text": [
            "Gün giriniz: Perşembe\n",
            "Bilginin Düzenlenmesi, Bilgi Erişim\n"
          ],
          "name": "stdout"
        }
      ]
    }
  ]
}