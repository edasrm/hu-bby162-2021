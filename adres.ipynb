{
  "nbformat": 4,
  "nbformat_minor": 0,
  "metadata": {
    "colab": {
      "name": "adres.ipynb",
      "provenance": [],
      "mount_file_id": "1Rcnwr8rMq--uFkrLkpiODR7pnN-4nry1",
      "authorship_tag": "ABX9TyO3QKHedELPtPMOQ9Txt6cI",
      "include_colab_link": true
    },
    "kernelspec": {
      "name": "python3",
      "display_name": "Python 3"
    },
    "language_info": {
      "name": "python"
    }
  },
  "cells": [
    {
      "cell_type": "markdown",
      "metadata": {
        "id": "view-in-github",
        "colab_type": "text"
      },
      "source": [
        "<a href=\"https://colab.research.google.com/github/edasrm/hu-bby162-2021/blob/main/adres.ipynb\" target=\"_parent\"><img src=\"https://colab.research.google.com/assets/colab-badge.svg\" alt=\"Open In Colab\"/></a>"
      ]
    },
    {
      "cell_type": "code",
      "metadata": {
        "colab": {
          "base_uri": "https://localhost:8080/"
        },
        "id": "o5d-wip-Xvbo",
        "outputId": "103975db-d944-463b-f961-1ee9545f40f3"
      },
      "source": [
        "#dosya okuma\n",
        "#Google Drive Bağlantısı\n",
        "\n",
        "dosya =\"/content/drive/MyDrive/Colab Notebooks/metin.txt\"\n",
        "\n",
        "f = open (dosya, \"r\") \n",
        "\n",
        "for line in f.readlines():\n",
        "    print(line)\n",
        "\n",
        "f.close()"
      ],
      "execution_count": 11,
      "outputs": [
        {
          "output_type": "stream",
          "text": [
            "Eda\n",
            "\n",
            "Surmeli\n",
            "\n",
            "edas5716@gmail.com\n"
          ],
          "name": "stdout"
        }
      ]
    },
    {
      "cell_type": "code",
      "metadata": {
        "colab": {
          "base_uri": "https://localhost:8080/"
        },
        "id": "bDVfzvztX4Nm",
        "outputId": "8d31dd22-093e-4e31-85ad-beba8017e7d9"
      },
      "source": [
        "#dosya yazma\n",
        "\n",
        "dosya = \"/content/drive/MyDrive/Colab Notebooks/metin.txt\"\n",
        "\n",
        "f = open(dosya, \"r\")\n",
        "\n",
        "f = open( dosya, 'w')\n",
        "f.write (\"Eda\\n\")\n",
        "f.write (\"Surmeli\\n\")\n",
        "f.write (\"edas5716@gmail.com\")\n",
        "f.close()\n",
        "\n",
        "f = open(dosya, \"r\")\n",
        "for line in f.readlines():\n",
        "  print(line)\n",
        "\n",
        "f.close()"
      ],
      "execution_count": 13,
      "outputs": [
        {
          "output_type": "stream",
          "text": [
            "Eda\n",
            "\n",
            "Surmeli\n",
            "\n",
            "edas5716@gmail.com\n"
          ],
          "name": "stdout"
        }
      ]
    }
  ]
}