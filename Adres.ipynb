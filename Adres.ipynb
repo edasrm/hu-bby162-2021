{
  "nbformat": 4,
  "nbformat_minor": 0,
  "metadata": {
    "colab": {
      "name": "Adres.ipynb",
      "provenance": [],
      "mount_file_id": "1bPd8njJe5QsuE-GYdFUaO4MnVzeEYKHk",
      "authorship_tag": "ABX9TyO2QP44o3pnfBlpH8Dri/HZ",
      "include_colab_link": true
    },
    "kernelspec": {
      "name": "python3",
      "display_name": "Python 3"
    },
    "language_info": {
      "name": "python"
    }
  },
  "cells": [
    {
      "cell_type": "markdown",
      "metadata": {
        "id": "view-in-github",
        "colab_type": "text"
      },
      "source": [
        "<a href=\"https://colab.research.google.com/github/edasrm/hu-bby162-2021/blob/main/Adres.ipynb\" target=\"_parent\"><img src=\"https://colab.research.google.com/assets/colab-badge.svg\" alt=\"Open In Colab\"/></a>"
      ]
    },
    {
      "cell_type": "code",
      "metadata": {
        "colab": {
          "base_uri": "https://localhost:8080/"
        },
        "id": "XnDtbVNZkjUV",
        "outputId": "579ec4f8-7d85-484b-a4e4-f9c1505ae5dd"
      },
      "source": [
        "#dosya okuma\n",
        "#Google Drive Bağlantısı\n",
        "\n",
        "dosya =\"/content/drive/MyDrive/Colab Notebooks/metin.txt\"\n",
        "\n",
        "f = open (dosya, \"r\") \n",
        "\n",
        "for line in f.readlines():\n",
        "    print(line)\n",
        "\n",
        "f.close()"
      ],
      "execution_count": 1,
      "outputs": [
        {
          "output_type": "stream",
          "text": [
            "Ad/Soyad: Eda Surmeli\n",
            "\n",
            "E-posta: edas5716@gmail.com\n",
            "\n"
          ],
          "name": "stdout"
        }
      ]
    },
    {
      "cell_type": "code",
      "metadata": {
        "colab": {
          "base_uri": "https://localhost:8080/"
        },
        "id": "Jatzg9d0lFSo",
        "outputId": "2dc87b81-9ca2-4348-a86d-b304d7b17c4e"
      },
      "source": [
        "#dosya yazma\n",
        "\n",
        "dosya = \"/content/drive/MyDrive/Colab Notebooks/metin.txt\"\n",
        "\n",
        "f = open(dosya, \"r\")\n",
        "\n",
        "f = open( dosya, 'w')\n",
        "f.write (\"Eda\\n\")\n",
        "f.write (\"Surmeli\\n\")\n",
        "f.write (\"edas5716@gmail.com\")\n",
        "f.close()\n",
        "\n",
        "f = open(dosya, \"r\")\n",
        "for line in f.readlines():\n",
        "  print(line)\n",
        "\n",
        "f.close()"
      ],
      "execution_count": 2,
      "outputs": [
        {
          "output_type": "stream",
          "text": [
            "Eda\n",
            "\n",
            "Surmeli\n",
            "\n",
            "edas5716@gmail.com\n"
          ],
          "name": "stdout"
        }
      ]
    }
  ]
}